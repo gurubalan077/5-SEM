{
 "cells": [
  {
   "cell_type": "code",
   "execution_count": 1,
   "id": "0666a7a9",
   "metadata": {},
   "outputs": [
    {
     "name": "stdout",
     "output_type": "stream",
     "text": [
      "Requirement already satisfied: scikit-image in c:\\users\\aedpu\\.conda\\envs\\s\\lib\\site-packages (0.21.0)\n",
      "Requirement already satisfied: numpy>=1.21.1 in c:\\users\\aedpu\\.conda\\envs\\s\\lib\\site-packages (from scikit-image) (1.26.4)\n",
      "Requirement already satisfied: scipy>=1.8 in c:\\users\\aedpu\\.conda\\envs\\s\\lib\\site-packages (from scikit-image) (1.11.2)\n",
      "Requirement already satisfied: networkx>=2.8 in c:\\users\\aedpu\\.conda\\envs\\s\\lib\\site-packages (from scikit-image) (3.1)\n",
      "Requirement already satisfied: pillow>=9.0.1 in c:\\users\\aedpu\\.conda\\envs\\s\\lib\\site-packages (from scikit-image) (10.0.0)\n",
      "Requirement already satisfied: imageio>=2.27 in c:\\users\\aedpu\\.conda\\envs\\s\\lib\\site-packages (from scikit-image) (2.31.3)\n",
      "Requirement already satisfied: tifffile>=2022.8.12 in c:\\users\\aedpu\\.conda\\envs\\s\\lib\\site-packages (from scikit-image) (2023.8.30)\n",
      "Requirement already satisfied: PyWavelets>=1.1.1 in c:\\users\\aedpu\\.conda\\envs\\s\\lib\\site-packages (from scikit-image) (1.4.1)\n",
      "Requirement already satisfied: packaging>=21 in c:\\users\\aedpu\\.conda\\envs\\s\\lib\\site-packages (from scikit-image) (23.0)\n",
      "Requirement already satisfied: lazy_loader>=0.2 in c:\\users\\aedpu\\.conda\\envs\\s\\lib\\site-packages (from scikit-image) (0.3)\n",
      "Note: you may need to restart the kernel to use updated packages.\n"
     ]
    }
   ],
   "source": [
    "pip install scikit-image"
   ]
  },
  {
   "cell_type": "code",
   "execution_count": 2,
   "id": "c8a2a788",
   "metadata": {},
   "outputs": [
    {
     "name": "stdout",
     "output_type": "stream",
     "text": [
      "Requirement already satisfied: matplotlib in c:\\users\\aedpu\\.conda\\envs\\s\\lib\\site-packages (3.7.2)\n",
      "Requirement already satisfied: contourpy>=1.0.1 in c:\\users\\aedpu\\.conda\\envs\\s\\lib\\site-packages (from matplotlib) (1.1.0)\n",
      "Requirement already satisfied: cycler>=0.10 in c:\\users\\aedpu\\.conda\\envs\\s\\lib\\site-packages (from matplotlib) (0.11.0)\n",
      "Requirement already satisfied: fonttools>=4.22.0 in c:\\users\\aedpu\\.conda\\envs\\s\\lib\\site-packages (from matplotlib) (4.42.1)\n",
      "Requirement already satisfied: kiwisolver>=1.0.1 in c:\\users\\aedpu\\.conda\\envs\\s\\lib\\site-packages (from matplotlib) (1.4.5)\n",
      "Requirement already satisfied: numpy>=1.20 in c:\\users\\aedpu\\.conda\\envs\\s\\lib\\site-packages (from matplotlib) (1.26.4)\n",
      "Requirement already satisfied: packaging>=20.0 in c:\\users\\aedpu\\.conda\\envs\\s\\lib\\site-packages (from matplotlib) (23.0)\n",
      "Requirement already satisfied: pillow>=6.2.0 in c:\\users\\aedpu\\.conda\\envs\\s\\lib\\site-packages (from matplotlib) (10.0.0)\n",
      "Requirement already satisfied: pyparsing<3.1,>=2.3.1 in c:\\users\\aedpu\\.conda\\envs\\s\\lib\\site-packages (from matplotlib) (3.0.9)\n",
      "Requirement already satisfied: python-dateutil>=2.7 in c:\\users\\aedpu\\.conda\\envs\\s\\lib\\site-packages (from matplotlib) (2.8.2)\n",
      "Requirement already satisfied: importlib-resources>=3.2.0 in c:\\users\\aedpu\\.conda\\envs\\s\\lib\\site-packages (from matplotlib) (6.0.1)\n",
      "Requirement already satisfied: zipp>=3.1.0 in c:\\users\\aedpu\\.conda\\envs\\s\\lib\\site-packages (from importlib-resources>=3.2.0->matplotlib) (3.16.2)\n",
      "Requirement already satisfied: six>=1.5 in c:\\users\\aedpu\\.conda\\envs\\s\\lib\\site-packages (from python-dateutil>=2.7->matplotlib) (1.16.0)\n",
      "Note: you may need to restart the kernel to use updated packages.\n"
     ]
    }
   ],
   "source": [
    "pip install matplotlib"
   ]
  },
  {
   "cell_type": "code",
   "execution_count": 3,
   "id": "904d5a4b",
   "metadata": {},
   "outputs": [],
   "source": [
    "import cv2\n",
    "import numpy as np\n",
    "import matplotlib.pyplot as plt \n",
    "%matplotlib inline"
   ]
  },
  {
   "cell_type": "code",
   "execution_count": 4,
   "id": "04a5e1c4",
   "metadata": {},
   "outputs": [],
   "source": [
    "from skimage.feature import hog\n",
    "from skimage import data ,exposure"
   ]
  },
  {
   "cell_type": "markdown",
   "id": "da28a81c",
   "metadata": {},
   "source": [
    "# READING IMG"
   ]
  },
  {
   "cell_type": "code",
   "execution_count": 22,
   "id": "d847791b",
   "metadata": {},
   "outputs": [],
   "source": [
    "img_1 = cv2.imread(\"C:\\\\Users\\\\aedpu\\Downloads\\\\car6.jpg\")"
   ]
  },
  {
   "cell_type": "code",
   "execution_count": 23,
   "id": "2e579434",
   "metadata": {
    "scrolled": true
   },
   "outputs": [
    {
     "data": {
      "text/plain": [
       "array([[[204, 204, 204],\n",
       "        [204, 204, 204],\n",
       "        [204, 204, 204],\n",
       "        ...,\n",
       "        [204, 204, 204],\n",
       "        [204, 204, 204],\n",
       "        [204, 204, 204]],\n",
       "\n",
       "       [[204, 204, 204],\n",
       "        [204, 204, 204],\n",
       "        [204, 204, 204],\n",
       "        ...,\n",
       "        [204, 204, 204],\n",
       "        [204, 204, 204],\n",
       "        [204, 204, 204]],\n",
       "\n",
       "       [[204, 204, 204],\n",
       "        [204, 204, 204],\n",
       "        [204, 204, 204],\n",
       "        ...,\n",
       "        [204, 204, 204],\n",
       "        [204, 204, 204],\n",
       "        [204, 204, 204]],\n",
       "\n",
       "       ...,\n",
       "\n",
       "       [[204, 204, 204],\n",
       "        [204, 204, 204],\n",
       "        [204, 204, 204],\n",
       "        ...,\n",
       "        [217, 217, 217],\n",
       "        [192, 192, 192],\n",
       "        [214, 214, 214]],\n",
       "\n",
       "       [[204, 204, 204],\n",
       "        [204, 204, 204],\n",
       "        [204, 204, 204],\n",
       "        ...,\n",
       "        [196, 196, 196],\n",
       "        [202, 202, 202],\n",
       "        [200, 200, 200]],\n",
       "\n",
       "       [[204, 204, 204],\n",
       "        [204, 204, 204],\n",
       "        [204, 204, 204],\n",
       "        ...,\n",
       "        [214, 214, 214],\n",
       "        [177, 177, 177],\n",
       "        [220, 220, 220]]], dtype=uint8)"
      ]
     },
     "execution_count": 23,
     "metadata": {},
     "output_type": "execute_result"
    }
   ],
   "source": [
    "img_1"
   ]
  },
  {
   "cell_type": "code",
   "execution_count": 24,
   "id": "53ba60e8",
   "metadata": {},
   "outputs": [],
   "source": [
    "img = cv2.resize(img_1,(512,512))"
   ]
  },
  {
   "cell_type": "code",
   "execution_count": 25,
   "id": "f1a45ce9",
   "metadata": {},
   "outputs": [],
   "source": [
    "cv2.imshow('original',img)\n",
    "cv2.waitKey(0)\n",
    "cv2.destroyAllWindows()"
   ]
  },
  {
   "cell_type": "code",
   "execution_count": 29,
   "id": "93724a08",
   "metadata": {},
   "outputs": [],
   "source": [
    "featdis , hog_image = hog(img , pixels_per_cell = (3 , 3 ),\n",
    "                         cells_per_block = (60, 60 ) , visualize = True ,channel_axis= 2)"
   ]
  },
  {
   "cell_type": "code",
   "execution_count": 30,
   "id": "16c0348e",
   "metadata": {},
   "outputs": [
    {
     "name": "stdout",
     "output_type": "stream",
     "text": [
      "[0.         0.         0.         ... 0.00047335 0.         0.00069214]\n"
     ]
    }
   ],
   "source": [
    "print(featdis)"
   ]
  },
  {
   "cell_type": "code",
   "execution_count": 34,
   "id": "e503ef18",
   "metadata": {},
   "outputs": [],
   "source": [
    "cv2.imshow('hog',hog_image)\n",
    "cv2.waitKey(0)\n",
    "cv2.destroyAllWindows()"
   ]
  },
  {
   "cell_type": "markdown",
   "id": "537f77cb",
   "metadata": {},
   "source": [
    "# Rescaling"
   ]
  },
  {
   "cell_type": "code",
   "execution_count": 32,
   "id": "e7dbf4ec",
   "metadata": {},
   "outputs": [],
   "source": [
    "rescale = exposure.rescale_intensity(hog_image, in_range=(0,1))"
   ]
  },
  {
   "cell_type": "code",
   "execution_count": 33,
   "id": "d9750ba0",
   "metadata": {},
   "outputs": [
    {
     "data": {
      "text/plain": [
       "array([[0., 0., 0., ..., 0., 0., 0.],\n",
       "       [0., 0., 0., ..., 0., 0., 0.],\n",
       "       [0., 0., 0., ..., 0., 0., 0.],\n",
       "       ...,\n",
       "       [0., 0., 0., ..., 0., 0., 0.],\n",
       "       [0., 0., 0., ..., 0., 0., 0.],\n",
       "       [0., 0., 0., ..., 0., 0., 0.]])"
      ]
     },
     "execution_count": 33,
     "metadata": {},
     "output_type": "execute_result"
    }
   ],
   "source": [
    "rescale"
   ]
  },
  {
   "cell_type": "markdown",
   "id": "323e1d67",
   "metadata": {},
   "source": [
    "# plot"
   ]
  },
  {
   "cell_type": "code",
   "execution_count": null,
   "id": "150dd912",
   "metadata": {},
   "outputs": [],
   "source": []
  }
 ],
 "metadata": {
  "kernelspec": {
   "display_name": "Python 3 (ipykernel)",
   "language": "python",
   "name": "python3"
  },
  "language_info": {
   "codemirror_mode": {
    "name": "ipython",
    "version": 3
   },
   "file_extension": ".py",
   "mimetype": "text/x-python",
   "name": "python",
   "nbconvert_exporter": "python",
   "pygments_lexer": "ipython3",
   "version": "3.9.17"
  }
 },
 "nbformat": 4,
 "nbformat_minor": 5
}
