{
 "cells": [
  {
   "cell_type": "code",
   "execution_count": 1,
   "id": "0280ab55-74a4-4fc2-a2d7-e564e7ff9e1e",
   "metadata": {},
   "outputs": [],
   "source": [
    "import cv2\n",
    "import numpy as np\n",
    "import matplotlib.pyplot as plt\n",
    "%matplotlib inline"
   ]
  },
  {
   "cell_type": "markdown",
   "id": "d26989ba-3674-4498-879d-6a14a22efec5",
   "metadata": {},
   "source": [
    "video Capture"
   ]
  },
  {
   "cell_type": "code",
   "execution_count": 2,
   "id": "4d376e79-c0cd-4416-9368-0c5682fb78f2",
   "metadata": {},
   "outputs": [],
   "source": [
    "cap = cv2.VideoCapture(\"C:\\\\Users\\\\aedpu\\\\Gurubalan Final year\\\\Motion.mp4\")"
   ]
  },
  {
   "cell_type": "markdown",
   "id": "afc062ed-e7df-4cf7-8455-9fce4154be38",
   "metadata": {},
   "source": [
    "Reading & Color Conversion"
   ]
  },
  {
   "cell_type": "code",
   "execution_count": 3,
   "id": "b69451c9-5cf0-48b2-a1d6-df5245fd8a05",
   "metadata": {},
   "outputs": [],
   "source": [
    "ret , frame = cap.read()\n",
    "prv = cv2.cvtColor(frame,cv2.COLOR_BGR2GRAY)"
   ]
  },
  {
   "cell_type": "markdown",
   "id": "445c0422-2107-48f1-b586-14a0ce989245",
   "metadata": {},
   "source": [
    "Zero matrix"
   ]
  },
  {
   "cell_type": "code",
   "execution_count": 4,
   "id": "4959aa26-b232-4af7-ab1b-5db76ea2f697",
   "metadata": {},
   "outputs": [],
   "source": [
    "hsv = np.zeros_like (frame)\n",
    "hsv[...,1] = 255"
   ]
  },
  {
   "cell_type": "code",
   "execution_count": 5,
   "id": "4eed8f0b-105e-43b0-a8e5-22344601197e",
   "metadata": {},
   "outputs": [],
   "source": [
    "while(1):\n",
    "    ret, fra =cap.read()\n",
    "    next  = cv2.cvtColor(fra, cv2.COLOR_BGR2GRAY)\n",
    "    flow = cv2.calcOpticalFlowFarneback(prv, next,None,0.5,3,15,3,5,1.2,0)\n",
    "    mag ,ang = cv2.cartToPolar(flow[...,0],flow[...,1])\n",
    "    hsv[...,0] = ang*1800/np.pi/2\n",
    "    hsv[...,2] = cv2.normalize(mag,None,0,255,cv2.NORM_MINMAX)\n",
    "    rgb = cv2.cvtColor(hsv,cv2.COLOR_HSV2RGB)\n",
    "    cv2.imshow('frame',rgb)\n",
    "    k = cv2.waitKey(30) & 0xff\n",
    "    if k ==27:\n",
    "        break\n",
    "\n",
    "cap.release()\n",
    "cv2.destroyAllWindows()"
   ]
  },
  {
   "cell_type": "code",
   "execution_count": null,
   "id": "a79ded96",
   "metadata": {},
   "outputs": [],
   "source": []
  },
  {
   "cell_type": "code",
   "execution_count": null,
   "id": "20d3c43d",
   "metadata": {},
   "outputs": [],
   "source": []
  }
 ],
 "metadata": {
  "kernelspec": {
   "display_name": "Python 3 (ipykernel)",
   "language": "python",
   "name": "python3"
  },
  "language_info": {
   "codemirror_mode": {
    "name": "ipython",
    "version": 3
   },
   "file_extension": ".py",
   "mimetype": "text/x-python",
   "name": "python",
   "nbconvert_exporter": "python",
   "pygments_lexer": "ipython3",
   "version": "3.9.16"
  }
 },
 "nbformat": 4,
 "nbformat_minor": 5
}
