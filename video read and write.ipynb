{
 "cells": [
  {
   "cell_type": "code",
   "execution_count": 1,
   "id": "20ce0a45-b0b0-4868-ac64-78915bb71cc9",
   "metadata": {},
   "outputs": [
    {
     "name": "stdout",
     "output_type": "stream",
     "text": [
      "Requirement already satisfied: opencv--python in c:\\users\\admin\\anaconda3\\envs\\mohamedfaizal\\lib\\site-packages (4.10.0.84)\n",
      "Requirement already satisfied: numpy>=1.21.2 in c:\\users\\admin\\anaconda3\\envs\\mohamedfaizal\\lib\\site-packages (from opencv--python) (1.26.4)\n",
      "Note: you may need to restart the kernel to use updated packages.\n"
     ]
    }
   ],
   "source": [
    "pip install --upgrade opencv--python"
   ]
  },
  {
   "cell_type": "code",
   "execution_count": 2,
   "id": "af15a170",
   "metadata": {},
   "outputs": [],
   "source": [
    "import cv2\n",
    "import numpy as np"
   ]
  },
  {
   "cell_type": "code",
   "execution_count": 8,
   "id": "5dc7d3c1",
   "metadata": {},
   "outputs": [],
   "source": [
    "view = cv2.VideoCapture(\"C:\\\\Users\\\\ADMIN\\\\Guru balan\\\\sample vedio.mp4\")"
   ]
  },
  {
   "cell_type": "code",
   "execution_count": 4,
   "id": "067d0b7a",
   "metadata": {},
   "outputs": [
    {
     "data": {
      "text/plain": [
       "< cv2.VideoCapture 000001FA7EBC7B10>"
      ]
     },
     "execution_count": 4,
     "metadata": {},
     "output_type": "execute_result"
    }
   ],
   "source": [
    "view"
   ]
  },
  {
   "cell_type": "code",
   "execution_count": 5,
   "id": "beb5a85a",
   "metadata": {},
   "outputs": [
    {
     "name": "stdout",
     "output_type": "stream",
     "text": [
      "True\n"
     ]
    }
   ],
   "source": [
    "print(view.isOpened())"
   ]
  },
  {
   "cell_type": "code",
   "execution_count": 6,
   "id": "f93d4ee8",
   "metadata": {},
   "outputs": [],
   "source": [
    "while(view.isOpened()):\n",
    "    ret, frame = view.read()\n",
    "\n",
    "    cv2.imshow('Video',frame)\n",
    "    if cv2.waitKey(60) & 0xFF == ord('q'):\n",
    "        break\n",
    "        \n",
    "view.release()\n",
    "cv2.destroyAllWindows()"
   ]
  },
  {
   "cell_type": "code",
   "execution_count": 10,
   "id": "402ea105",
   "metadata": {},
   "outputs": [],
   "source": [
    "while (view.isOpened()):\n",
    "    ret , frame = view.read()\n",
    "    gray = cv2.cvtColor(frame,cv2.COLOR_BGR2GRAY)\n",
    "    rgb = cv2.cvtColor(frame,cv2.COLOR_BGR2RGB)\n",
    " \n",
    "    cv2.imshow('Video',frame)\n",
    "    cv2.imshow('Grey',gray)\n",
    "    cv2.imshow('rgb',rgb)\n",
    "    if cv2.waitKey(60) & 0xFF == ord('q'):\n",
    "        break\n",
    "        \n",
    "view.release()\n",
    "cv2.destroyAllWindows()"
   ]
  },
  {
   "cell_type": "code",
   "execution_count": 11,
   "id": "43db62b4",
   "metadata": {},
   "outputs": [],
   "source": [
    "# Web came open"
   ]
  },
  {
   "cell_type": "code",
   "execution_count": 13,
   "id": "c5bbdf32",
   "metadata": {},
   "outputs": [
    {
     "data": {
      "text/plain": [
       "False"
      ]
     },
     "execution_count": 13,
     "metadata": {},
     "output_type": "execute_result"
    }
   ],
   "source": [
    "vid = cv2.VideoCapture(0)\n",
    "re, f = vid.read()\n",
    "re"
   ]
  },
  {
   "cell_type": "code",
   "execution_count": 16,
   "id": "f454d472-371d-4875-9553-a1c5f68c90f1",
   "metadata": {},
   "outputs": [],
   "source": [
    "#Live Vedio  Cam"
   ]
  },
  {
   "cell_type": "code",
   "execution_count": null,
   "id": "ef3ca1a5-977b-4d48-8468-aafe604cff2b",
   "metadata": {},
   "outputs": [],
   "source": [
    "while(True):\n",
    "    ret, frame = vid.read()\n",
    "    gray = cv2.cvtColor(frame,cv2.COLOR_BGR2GRAY)\n",
    "    cv2.imshow('frame',frame)\n",
    "    cv2.imshow('gray',gray)\n",
    "    if cv2.waitKey(60) & 0xFF == ord('q'):\n",
    "        break\n",
    "        \n",
    "view.release()\n",
    "cv2.destroyAllWindows()"
   ]
  },
  {
   "cell_type": "code",
   "execution_count": 17,
   "id": "ef8b60bc-e7f4-4920-b4a7-1d6e7ab383f7",
   "metadata": {},
   "outputs": [],
   "source": [
    "fourcc = cv2.VideoWriter_fourcc(*'mp4v')"
   ]
  },
  {
   "cell_type": "code",
   "execution_count": 21,
   "id": "41c00547-1526-4b91-b3de-e0a33424b388",
   "metadata": {},
   "outputs": [],
   "source": [
    "wrt = cv2.VideoWriter('me.mp4',fourcc , 50.0,(640,480))"
   ]
  },
  {
   "cell_type": "code",
   "execution_count": 26,
   "id": "25103426-a12a-4cec-b8d7-28ae94fafb61",
   "metadata": {},
   "outputs": [],
   "source": [
    "while(vid.isOpened()):\n",
    "    ret , frame = vid.read()\n",
    "    \n",
    "    wrt.write(frame)\n",
    "\n",
    "    cv2.imshow('frame',frame)\n",
    "    if cv2.waitKey(60) & 0xFF == ord('q'):\n",
    "        break\n",
    "\n",
    "vid.release()\n",
    "wrt.release()\n",
    "cv2.destroyAllWindows()"
   ]
  },
  {
   "cell_type": "code",
   "execution_count": null,
   "id": "2fe374ba-43c1-42d7-9a47-eda20c8a803c",
   "metadata": {},
   "outputs": [],
   "source": []
  }
 ],
 "metadata": {
  "kernelspec": {
   "display_name": "Python 3 (ipykernel)",
   "language": "python",
   "name": "python3"
  },
  "language_info": {
   "codemirror_mode": {
    "name": "ipython",
    "version": 3
   },
   "file_extension": ".py",
   "mimetype": "text/x-python",
   "name": "python",
   "nbconvert_exporter": "python",
   "pygments_lexer": "ipython3",
   "version": "3.11.8"
  }
 },
 "nbformat": 4,
 "nbformat_minor": 5
}
